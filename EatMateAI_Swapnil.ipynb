{
  "nbformat": 4,
  "nbformat_minor": 0,
  "metadata": {
    "colab": {
      "provenance": [],
      "authorship_tag": "ABX9TyMxY/OfmROElsDUiSFcNFH1"
    },
    "kernelspec": {
      "name": "python3",
      "display_name": "Python 3"
    },
    "language_info": {
      "name": "python"
    }
  },
  "cells": [
    {
      "cell_type": "code",
      "source": [
        "!pip install -U -q openai tenacity"
      ],
      "metadata": {
        "colab": {
          "base_uri": "https://localhost:8080/"
        },
        "id": "4fhyrQ3Lf7dJ",
        "outputId": "e513f34a-ebbc-4d94-ee95-67f1e2ffd8fd"
      },
      "execution_count": 9,
      "outputs": [
        {
          "output_type": "stream",
          "name": "stdout",
          "text": [
            "\u001b[?25l   \u001b[90m━━━━━━━━━━━━━━━━━━━━━━━━━━━━━━━━━━━━━━━━\u001b[0m \u001b[32m0.0/383.5 kB\u001b[0m \u001b[31m?\u001b[0m eta \u001b[36m-:--:--\u001b[0m\r\u001b[2K   \u001b[91m━━━━━━━━━━━━━━━━━━━━━━━━━━━━━━━━━━━━━━━\u001b[0m\u001b[91m╸\u001b[0m \u001b[32m378.9/383.5 kB\u001b[0m \u001b[31m14.5 MB/s\u001b[0m eta \u001b[36m0:00:01\u001b[0m\r\u001b[2K   \u001b[90m━━━━━━━━━━━━━━━━━━━━━━━━━━━━━━━━━━━━━━━━\u001b[0m \u001b[32m383.5/383.5 kB\u001b[0m \u001b[31m9.4 MB/s\u001b[0m eta \u001b[36m0:00:00\u001b[0m\n",
            "\u001b[?25h\u001b[?25l   \u001b[90m━━━━━━━━━━━━━━━━━━━━━━━━━━━━━━━━━━━━━━━━\u001b[0m \u001b[32m0.0/76.4 kB\u001b[0m \u001b[31m?\u001b[0m eta \u001b[36m-:--:--\u001b[0m\r\u001b[2K   \u001b[90m━━━━━━━━━━━━━━━━━━━━━━━━━━━━━━━━━━━━━━━━\u001b[0m \u001b[32m76.4/76.4 kB\u001b[0m \u001b[31m5.2 MB/s\u001b[0m eta \u001b[36m0:00:00\u001b[0m\n",
            "\u001b[?25h\u001b[?25l   \u001b[90m━━━━━━━━━━━━━━━━━━━━━━━━━━━━━━━━━━━━━━━━\u001b[0m \u001b[32m0.0/78.0 kB\u001b[0m \u001b[31m?\u001b[0m eta \u001b[36m-:--:--\u001b[0m\r\u001b[2K   \u001b[90m━━━━━━━━━━━━━━━━━━━━━━━━━━━━━━━━━━━━━━━━\u001b[0m \u001b[32m78.0/78.0 kB\u001b[0m \u001b[31m5.5 MB/s\u001b[0m eta \u001b[36m0:00:00\u001b[0m\n",
            "\u001b[?25h\u001b[?25l   \u001b[90m━━━━━━━━━━━━━━━━━━━━━━━━━━━━━━━━━━━━━━━━\u001b[0m \u001b[32m0.0/318.9 kB\u001b[0m \u001b[31m?\u001b[0m eta \u001b[36m-:--:--\u001b[0m\r\u001b[2K   \u001b[90m━━━━━━━━━━━━━━━━━━━━━━━━━━━━━━━━━━━━━━━━\u001b[0m \u001b[32m318.9/318.9 kB\u001b[0m \u001b[31m18.7 MB/s\u001b[0m eta \u001b[36m0:00:00\u001b[0m\n",
            "\u001b[?25h\u001b[?25l   \u001b[90m━━━━━━━━━━━━━━━━━━━━━━━━━━━━━━━━━━━━━━━━\u001b[0m \u001b[32m0.0/58.3 kB\u001b[0m \u001b[31m?\u001b[0m eta \u001b[36m-:--:--\u001b[0m\r\u001b[2K   \u001b[90m━━━━━━━━━━━━━━━━━━━━━━━━━━━━━━━━━━━━━━━━\u001b[0m \u001b[32m58.3/58.3 kB\u001b[0m \u001b[31m4.1 MB/s\u001b[0m eta \u001b[36m0:00:00\u001b[0m\n",
            "\u001b[?25h"
          ]
        }
      ]
    },
    {
      "cell_type": "code",
      "source": [
        "import os, json, ast\n",
        "import openai\n",
        "from tenacity import retry, wait_random_exponential, stop_after_attempt\n",
        "import pandas as pd"
      ],
      "metadata": {
        "id": "TIQbzhiBf2n8"
      },
      "execution_count": 10,
      "outputs": []
    },
    {
      "cell_type": "code",
      "source": [
        "# Read the OpenAI API key\n",
        "from google.colab import userdata\n",
        "os.environ['OPENAI_API_KEY'] = userdata.get('OpenAI_Api_Key')"
      ],
      "metadata": {
        "id": "4cGBZw8UgJI3"
      },
      "execution_count": 11,
      "outputs": []
    },
    {
      "cell_type": "code",
      "source": [
        "def initialize_conversation():\n",
        "    '''\n",
        "    Returns a list [{\"role\": \"system\", \"content\": system_message}]\n",
        "    '''\n",
        "    system_message = f\"\"\"\n",
        "    You are a knowledgeable assistant specialized in restaurant recommendations and table reservations. You understand various cuisines, dining preferences, and local restaurant options, tailored to the user’s city.\n",
        "    Kindly ask the user to provide their dining requirements, including location and cuisine preferences, while providing some cusine preferences such as North Indian, Italian, Chinese, Mexican, etc..\n",
        "\n",
        "    Once the user share there city and cusine preference, your goal is to fetch suggest the best 5 available restaurants that match their needs.\n",
        "\n",
        "    After suggesting the restraunts, ask them to select one of the restaurants for making the reservation.\n",
        "    Then, you must ask the user for their name and date time to confirm the table reservation.\n",
        "    Once you have reservation details, you must reserve the table with provided details.\n",
        "    \"\"\"\n",
        "\n",
        "    conversation = [{\"role\": \"system\", \"content\": system_message}]\n",
        "    # conversation = system_message\n",
        "    return conversation"
      ],
      "metadata": {
        "id": "wCEIyMKSgMkM"
      },
      "execution_count": 47,
      "outputs": []
    },
    {
      "cell_type": "code",
      "source": [
        "restaurants_df = pd.read_csv('restaurants_data.csv')\n",
        "cuisines_list = []\n",
        "for index, row in restaurants_df.iterrows():\n",
        "  cuisines = row['Cuisines'].split(', ')\n",
        "  for cuisine in cuisines:\n",
        "    if cuisine not in cuisines_list:\n",
        "      cuisines_list.append(cuisine)\n",
        "\n",
        "print(cuisines_list)\n"
      ],
      "metadata": {
        "colab": {
          "base_uri": "https://localhost:8080/"
        },
        "id": "CqFzTtmqc2uX",
        "outputId": "30fcf2c3-88bd-4674-be72-40b2a0d37fa0"
      },
      "execution_count": 23,
      "outputs": [
        {
          "output_type": "stream",
          "name": "stdout",
          "text": [
            "['North Indian', 'Mughlai', 'Rajasthani', 'Chinese', 'European', 'Gujarati', 'Continental', 'South Indian', 'Desserts', 'Cafe', 'Italian', 'Mexican', 'Pizza', 'Fast Food', 'Mediterranean', 'Thai', 'Ice Cream', 'Beverages', 'Asian', 'Street Food', 'Sandwich', 'Burger', 'Healthy Food', 'American', 'Armenian', 'Salad', 'Bakery', 'Mithai', 'Biryani', 'Juices', 'Maharashtrian', 'Hyderabadi', 'Modern Indian', 'Finger Food', 'Tex-Mex', 'Arabian', 'Charcoal Grill', 'Steak', 'Seafood', 'Tea', 'Japanese', 'Malaysian', 'Burmese', 'Chettinad', 'Spanish', 'Greek', 'Indian', 'Parsi', 'Tibetan', 'Raw Meats', 'French', 'Goan', 'German', 'Kerala', 'Lebanese', 'Belgian', 'Kashmiri', 'Sushi', 'South American', 'Persian', 'Bengali', 'Portuguese', 'African', 'Iranian', 'Vietnamese', 'Lucknowi', 'Korean', 'Awadhi', 'Nepalese', 'Drinks Only', 'Pakistani', 'North Eastern', 'Oriya', 'Bihari', 'Afghani', 'Middle Eastern', 'Indonesian', 'Assamese', 'Andhra', 'Mangalorean', 'British', 'Malwani', 'Cuisine Varies', 'Turkish', 'Moroccan', 'Naga', 'Deli', 'Sri Lankan', 'BBQ', 'Cajun']\n"
          ]
        }
      ]
    },
    {
      "cell_type": "code",
      "source": [
        "def find_best_restaurants(city, cuisine = None):\n",
        "  \"\"\"\n",
        "  Finds the top 5 restaurants based on aggregate ratings for a given city and cuisine.\n",
        "\n",
        "  Args:\n",
        "    city: The city to search for restaurants in.\n",
        "    cuisine: The cuisine to search for.\n",
        "\n",
        "  Returns:\n",
        "    A list of dictionaries, where each dictionary represents a restaurant and contains\n",
        "    its name, rating, and address.\n",
        "  \"\"\"\n",
        "  try:\n",
        "    # Load restaurants data from CSV file\n",
        "    restaurants_df = pd.read_csv('restaurants_data.csv')\n",
        "\n",
        "    # Filter restaurants by city and cuisine\n",
        "    filtered_restaurants = restaurants_df[restaurants_df['City'].str.contains(city, case = False)]\n",
        "\n",
        "    if cuisine:\n",
        "      filtered_restaurants = filtered_restaurants[filtered_restaurants['Cuisines'].str.contains(cuisine, case=False)]\n",
        "\n",
        "    # Sort restaurants by aggregate ratings in descending order\n",
        "    sorted_restaurants = filtered_restaurants.sort_values('Aggregate rating', ascending=False)\n",
        "\n",
        "    # Get the top 5 restaurants\n",
        "    top_restaurants = sorted_restaurants.head(5)\n",
        "\n",
        "    # Convert the top restaurants to a list of dictionaries\n",
        "    restaurant_list = []\n",
        "    for _, row in top_restaurants.iterrows():\n",
        "      restaurant_list.append({\n",
        "          'name': row['Restaurant Name'],\n",
        "          'rating': row['Aggregate rating'],\n",
        "          'address': row['Address'],\n",
        "          'cuisines': row['Cuisines']\n",
        "      })\n",
        "\n",
        "    return restaurant_list\n",
        "\n",
        "  except Exception as e:\n",
        "    print(f\"An error occurred: {e}\")\n",
        "    return []\n"
      ],
      "metadata": {
        "id": "M3Iol0aVMDA3"
      },
      "execution_count": 16,
      "outputs": []
    },
    {
      "cell_type": "code",
      "execution_count": 29,
      "metadata": {
        "id": "IHG3bo_2fMj2"
      },
      "outputs": [],
      "source": [
        "eatMateFunctions = [\n",
        "    {\n",
        "      \"name\": \"findBestRestaurants\",\n",
        "      \"description\": \"Find the best 5 restaurants for a given cuisine in a city\",\n",
        "      \"parameters\": {\n",
        "          \"type\": \"object\",\n",
        "          \"properties\": {\n",
        "              \"city\": {\n",
        "                  \"type\": \"string\",\n",
        "                  \"description\": \"The city where user is looking for restaurants\"\n",
        "              },\n",
        "              \"cuisine\": {\n",
        "                  \"type\": \"string\",\n",
        "                  \"enum\": cuisines_list,\n",
        "                  \"description\": \"cuisine prefered by user\"\n",
        "              }\n",
        "          },\n",
        "          \"required\": [\"city\"]\n",
        "        }\n",
        "    },\n",
        "    {\n",
        "        \"name\": \"tableReservation\",\n",
        "        \"description\": \"Reserve a table for the user at specific restaurant, at given date and time\",\n",
        "        \"parameters\": {\n",
        "            \"type\": \"object\",\n",
        "            \"properties\": {\n",
        "                \"restaurant\": {\n",
        "                    \"type\": \"string\",\n",
        "                    \"description\": \"The name of the restaurant\"\n",
        "                },\n",
        "                \"user_name\": {\n",
        "                    \"type\": \"string\",\n",
        "                    \"description\": \"The name of the user\"\n",
        "                },\n",
        "                \"date_time\": {\n",
        "                    \"type\": \"string\",\n",
        "                    \"description\": \"The date and time of the reservation\"\n",
        "                }\n",
        "            },\n",
        "            \"required\" : [\"restaurant\", \"user_name\", \"date_time\"]\n",
        "            }\n",
        "        }\n",
        "    ]"
      ]
    },
    {
      "cell_type": "code",
      "source": [
        "# Define a Chat Completions API call\n",
        "# Retry up to 6 times with exponential backoff, starting at 1 second and maxing out at 20 seconds delay\n",
        "@retry(wait=wait_random_exponential(min=1, max=20), stop=stop_after_attempt(6))\n",
        "def get_chat_completions(input, json_format = False):\n",
        "    MODEL = 'gpt-3.5-turbo'\n",
        "\n",
        "    chat_completion = openai.chat.completions.create(\n",
        "        model = MODEL,\n",
        "        messages = input,\n",
        "        functions = eatMateFunctions,\n",
        "        function_call = \"auto\",\n",
        "        seed = 2345)\n",
        "\n",
        "    output = chat_completion.choices[0]\n",
        "\n",
        "    return output"
      ],
      "metadata": {
        "id": "-EUzrF0Nrvjh"
      },
      "execution_count": 14,
      "outputs": []
    },
    {
      "cell_type": "code",
      "source": [
        "# Define a function called moderation_check that takes user_input as a parameter.\n",
        "\n",
        "def moderation_check(content):\n",
        "    # Call the OpenAI API to perform moderation on the user's input.\n",
        "    response = openai.moderations.create(input=content)\n",
        "\n",
        "    # Extract the moderation result from the API response.\n",
        "    moderation_output = response.results[0].flagged\n",
        "    # Check if the input was flagged by the moderation system.\n",
        "    if response.results[0].flagged == True:\n",
        "        # If flagged, return \"Flagged\"\n",
        "        return \"Flagged\"\n",
        "    else:\n",
        "        # If not flagged, return \"Not Flagged\"\n",
        "        return \"Not Flagged\""
      ],
      "metadata": {
        "id": "1xWRQ-mNsrut"
      },
      "execution_count": 15,
      "outputs": []
    },
    {
      "cell_type": "code",
      "source": [
        "find_best_restaurants(\"delhi\", \"north indian\")"
      ],
      "metadata": {
        "colab": {
          "base_uri": "https://localhost:8080/"
        },
        "id": "lZwSU_5cOCdg",
        "outputId": "e7f99879-85b3-4724-e125-860d130987f5"
      },
      "execution_count": 17,
      "outputs": [
        {
          "output_type": "execute_result",
          "data": {
            "text/plain": [
              "[{'name': 'Kopper Kadai',\n",
              "  'rating': 4.8,\n",
              "  'address': 'J2/6B, 1st & 2nd Floor, B.K. Dutta Market, Rajouri Garden, New Delhi',\n",
              "  'cuisines': 'North Indian'},\n",
              " {'name': 'Zabardast Indian Kitchen',\n",
              "  'rating': 4.7,\n",
              "  'address': 'E-13/29, Ground Floor, Middle Circle, Connaught Place, New Delhi',\n",
              "  'cuisines': 'North Indian'},\n",
              " {'name': 'Band Baaja Baaraat',\n",
              "  'rating': 4.6,\n",
              "  'address': 'A-6 Ground Floor, Vishal Enclave, Rajouri Garden, New Delhi',\n",
              "  'cuisines': 'North Indian'},\n",
              " {'name': 'Food Scouts',\n",
              "  'rating': 4.6,\n",
              "  'address': 'Punjabi Bagh, New Delhi',\n",
              "  'cuisines': 'North Indian, Chinese, Continental'},\n",
              " {'name': 'Qubitos - The Terrace Cafe',\n",
              "  'rating': 4.5,\n",
              "  'address': 'C-7, Vishal Enclave, Opposite Metro Pillar 417, Rajouri Garden, New Delhi',\n",
              "  'cuisines': 'Thai, European, Mexican, North Indian, Chinese, Cafe'}]"
            ]
          },
          "metadata": {},
          "execution_count": 17
        }
      ]
    },
    {
      "cell_type": "code",
      "source": [
        "def invoke_function(function_call):\n",
        "  \"\"\"\n",
        "  Invokes a function based on the function_call object.\n",
        "  \"\"\"\n",
        "  if function_call.name == \"findBestRestaurants\":\n",
        "    arguments = json.loads(function_call.arguments)\n",
        "    city = arguments.get(\"city\")\n",
        "    cuisine = arguments.get(\"cuisine\")\n",
        "    restaurants = find_best_restaurants(city, cuisine)\n",
        "    return restaurants\n",
        "\n",
        "  elif function_call.name == \"tableReservation\":\n",
        "    arguments = json.loads(function_call.arguments)\n",
        "    restaurant = arguments.get(\"restaurant\")\n",
        "    user_name = arguments.get(\"user_name\")\n",
        "    date_time = arguments.get(\"date_time\")\n",
        "\n",
        "    return (f\"Reservation confirmed - Restaurant: {restaurant}, User Name: {user_name}, Date Time: {date_time}\")\n",
        "\n",
        "  else:\n",
        "    raise ValueError(f\"Unknown function: {function_call.name}\")"
      ],
      "metadata": {
        "id": "MHfCo2mOKsz8"
      },
      "execution_count": 66,
      "outputs": []
    },
    {
      "cell_type": "code",
      "source": [
        "from IPython.display import display, Markdown, Latex\n",
        "\n",
        "def dialogue_mgmt_system():\n",
        "    conversation = initialize_conversation()\n",
        "    introduction = get_chat_completions(conversation).message.content\n",
        "\n",
        "    display(Markdown(f\"**EatMate:** {introduction}\"))\n",
        "\n",
        "    user_input = ''\n",
        "\n",
        "    while(user_input != \"exit\"):\n",
        "        display(Markdown(\"**You:** Please provide your input here or type 'exit' to finish:\"))\n",
        "        user_input = input()\n",
        "\n",
        "        if(user_input == \"exit\"):\n",
        "            break\n",
        "\n",
        "        moderation = moderation_check(user_input)\n",
        "\n",
        "        if moderation == 'Flagged':\n",
        "            display(Markdown(\"Sorry, this message has been flagged. Please restart your conversation.\"))\n",
        "            break\n",
        "\n",
        "        conversation.append({\"role\": \"user\", \"content\": user_input})\n",
        "        output = get_chat_completions(conversation)\n",
        "        if output.message.function_call:\n",
        "          func_resp = invoke_function(output.message.function_call)\n",
        "          func_resp = json.dumps(func_resp)\n",
        "          conversation.append({\"role\": \"function\", \"name\": output.message.function_call.name, \"content\": func_resp})\n",
        "          output = get_chat_completions(conversation)\n",
        "          output = output.message.content\n",
        "        else:\n",
        "          output = output.message.content\n",
        "\n",
        "        display(Markdown(f\"**EatMate:** {output}\"))\n",
        "\n",
        "        conversation.append({\"role\": \"assistant\", \"content\": output})"
      ],
      "metadata": {
        "id": "ajKGMDaLsRmw"
      },
      "execution_count": 75,
      "outputs": []
    },
    {
      "cell_type": "code",
      "source": [
        "dialogue_mgmt_system()"
      ],
      "metadata": {
        "colab": {
          "base_uri": "https://localhost:8080/",
          "height": 981
        },
        "id": "G8Kf1E_FtRMi",
        "outputId": "50f912a1-0abe-45de-83ee-da379e21188d"
      },
      "execution_count": 76,
      "outputs": [
        {
          "output_type": "display_data",
          "data": {
            "text/plain": [
              "<IPython.core.display.Markdown object>"
            ],
            "text/markdown": "**EatMate:** Hello! I can assist you with restaurant recommendations and table reservations. \nTo get started, could you please provide me with your dining requirements? Specifically, let me know your city and cuisine preferences. Some cuisine options include North Indian, Italian, Chinese, Mexican, etc. \n\nMay I know your city and preferred cuisine to help you find the best dining options?"
          },
          "metadata": {}
        },
        {
          "output_type": "display_data",
          "data": {
            "text/plain": [
              "<IPython.core.display.Markdown object>"
            ],
            "text/markdown": "**You:** Please provide your input here or type 'exit' to finish:"
          },
          "metadata": {}
        },
        {
          "name": "stdout",
          "output_type": "stream",
          "text": [
            "I want to have some chinese\n"
          ]
        },
        {
          "output_type": "display_data",
          "data": {
            "text/plain": [
              "<IPython.core.display.Markdown object>"
            ],
            "text/markdown": "**EatMate:** Sure, I can help you with that! Could you please tell me the name of your city so I can find the best Chinese restaurants for you?"
          },
          "metadata": {}
        },
        {
          "output_type": "display_data",
          "data": {
            "text/plain": [
              "<IPython.core.display.Markdown object>"
            ],
            "text/markdown": "**You:** Please provide your input here or type 'exit' to finish:"
          },
          "metadata": {}
        },
        {
          "name": "stdout",
          "output_type": "stream",
          "text": [
            "I'm in mumbai\n"
          ]
        },
        {
          "output_type": "display_data",
          "data": {
            "text/plain": [
              "<IPython.core.display.Markdown object>"
            ],
            "text/markdown": "**EatMate:** I have found some Chinese restaurants in Mumbai for you:\n\n1. **The Fusion Kitchen**\n   - **Address:** Shop 1, Opposite Veda Building, Near Bhavdevi Garage, Holy Cross Road, IC colony, Borivali West, Mumbai\n   - **Rating:** 4.7\n\n2. **Tea Villa Cafe**\n   - **Address:** 31, Opposite Globus, Hill Road, Bandra West\n   - **Rating:** 4.1\n\n3. **Tea Villa Cafe**\n   - **Address:** 28, Aaram Nagar 1, Opposite Dariya Mahal, Versova, Andheri West\n   - **Rating:** 4.1\n\n4. **Tea Villa Cafe**\n   - **Address:** Shop 1& 2, Y-Building, Flower Valley, Opposite Viviana Mall, Eastern Express Highway, Majiwada, Thane West\n   - **Rating:** 3.9\n\n5. **Mumbai Vibe**\n   - **Address:** Ganga Jamuna Block, 14th Road, Linking Road, Bandra West\n   - **Rating:** 3.8\n\nPlease select one of the above restaurants for making a reservation."
          },
          "metadata": {}
        },
        {
          "output_type": "display_data",
          "data": {
            "text/plain": [
              "<IPython.core.display.Markdown object>"
            ],
            "text/markdown": "**You:** Please provide your input here or type 'exit' to finish:"
          },
          "metadata": {}
        },
        {
          "name": "stdout",
          "output_type": "stream",
          "text": [
            "Mumbai Vibe is close to me, I'll prefer that\n"
          ]
        },
        {
          "output_type": "display_data",
          "data": {
            "text/plain": [
              "<IPython.core.display.Markdown object>"
            ],
            "text/markdown": "**EatMate:** Great choice! To proceed with the reservation at Mumbai Vibe, I will need your name and the date and time you would like the reservation for. Please provide me with those details."
          },
          "metadata": {}
        },
        {
          "output_type": "display_data",
          "data": {
            "text/plain": [
              "<IPython.core.display.Markdown object>"
            ],
            "text/markdown": "**You:** Please provide your input here or type 'exit' to finish:"
          },
          "metadata": {}
        },
        {
          "name": "stdout",
          "output_type": "stream",
          "text": [
            "I'm Swapnil, and I need a reservation for today at 8 pm\n"
          ]
        },
        {
          "output_type": "display_data",
          "data": {
            "text/plain": [
              "<IPython.core.display.Markdown object>"
            ],
            "text/markdown": "**EatMate:** Your table reservation at Mumbai Vibe for today at 8 pm has been confirmed for you, Swapnil. Enjoy your dining experience! If you need any further assistance, feel free to ask."
          },
          "metadata": {}
        },
        {
          "output_type": "display_data",
          "data": {
            "text/plain": [
              "<IPython.core.display.Markdown object>"
            ],
            "text/markdown": "**You:** Please provide your input here or type 'exit' to finish:"
          },
          "metadata": {}
        },
        {
          "name": "stdout",
          "output_type": "stream",
          "text": [
            "what other cusines are available at Mumbai Vibe\n"
          ]
        },
        {
          "output_type": "display_data",
          "data": {
            "text/plain": [
              "<IPython.core.display.Markdown object>"
            ],
            "text/markdown": "**EatMate:** At Mumbai Vibe, you can enjoy a variety of cuisines including Cafe, Continental, North Indian, Italian, Chinese, Bakery, Desserts, and Finger Food. It offers a diverse range of options to explore and savor. If you have any other questions or need more information, feel free to ask!"
          },
          "metadata": {}
        },
        {
          "output_type": "display_data",
          "data": {
            "text/plain": [
              "<IPython.core.display.Markdown object>"
            ],
            "text/markdown": "**You:** Please provide your input here or type 'exit' to finish:"
          },
          "metadata": {}
        },
        {
          "name": "stdout",
          "output_type": "stream",
          "text": [
            "thanks\n"
          ]
        },
        {
          "output_type": "display_data",
          "data": {
            "text/plain": [
              "<IPython.core.display.Markdown object>"
            ],
            "text/markdown": "**EatMate:** You're welcome! If you have any more questions or need assistance in the future, feel free to reach out. Enjoy your dining experience at Mumbai Vibe! Have a great day!"
          },
          "metadata": {}
        },
        {
          "output_type": "display_data",
          "data": {
            "text/plain": [
              "<IPython.core.display.Markdown object>"
            ],
            "text/markdown": "**You:** Please provide your input here or type 'exit' to finish:"
          },
          "metadata": {}
        },
        {
          "name": "stdout",
          "output_type": "stream",
          "text": [
            "exit\n"
          ]
        }
      ]
    },
    {
      "cell_type": "code",
      "source": [],
      "metadata": {
        "id": "L5Nfu8CutWE3"
      },
      "execution_count": 20,
      "outputs": []
    }
  ]
}